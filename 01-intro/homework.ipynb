{
 "cells": [
  {
   "cell_type": "code",
   "execution_count": 1,
   "id": "a63360cc-2080-48f9-aab9-7d0f9d7e7a2f",
   "metadata": {},
   "outputs": [],
   "source": [
    "import pandas as pd\n",
    "import numpy as np\n",
    "\n",
    "from sklearn.feature_extraction import DictVectorizer\n",
    "from sklearn.linear_model import LinearRegression\n",
    "from sklearn.metrics import mean_squared_error\n",
    "\n",
    "import seaborn as sns\n",
    "import matplotlib.pyplot as plt"
   ]
  },
  {
   "cell_type": "markdown",
   "id": "a43a8cbf",
   "metadata": {},
   "source": [
    "# Purpose: predict the duration of a ride"
   ]
  },
  {
   "cell_type": "code",
   "execution_count": 2,
   "id": "d2559080-44a4-4672-b6d7-6c912a9e3f5f",
   "metadata": {},
   "outputs": [],
   "source": [
    "url_january = \"https://d37ci6vzurychx.cloudfront.net/trip-data/yellow_tripdata_2023-01.parquet\"\n",
    "url_february = \"https://d37ci6vzurychx.cloudfront.net/trip-data/yellow_tripdata_2023-02.parquet\""
   ]
  },
  {
   "cell_type": "code",
   "execution_count": 3,
   "id": "1b9ad535-afa8-4b68-ad46-ebe3db9f1d73",
   "metadata": {},
   "outputs": [],
   "source": [
    "df_january = pd.read_parquet(url_january)\n",
    "df_february = pd.read_parquet(url_february)"
   ]
  },
  {
   "cell_type": "code",
   "execution_count": 4,
   "id": "080f9942-ee46-4651-8978-d07cc451adca",
   "metadata": {},
   "outputs": [
    {
     "data": {
      "text/html": [
       "<div>\n",
       "<style scoped>\n",
       "    .dataframe tbody tr th:only-of-type {\n",
       "        vertical-align: middle;\n",
       "    }\n",
       "\n",
       "    .dataframe tbody tr th {\n",
       "        vertical-align: top;\n",
       "    }\n",
       "\n",
       "    .dataframe thead th {\n",
       "        text-align: right;\n",
       "    }\n",
       "</style>\n",
       "<table border=\"1\" class=\"dataframe\">\n",
       "  <thead>\n",
       "    <tr style=\"text-align: right;\">\n",
       "      <th></th>\n",
       "      <th>VendorID</th>\n",
       "      <th>tpep_pickup_datetime</th>\n",
       "      <th>tpep_dropoff_datetime</th>\n",
       "      <th>passenger_count</th>\n",
       "      <th>trip_distance</th>\n",
       "      <th>RatecodeID</th>\n",
       "      <th>store_and_fwd_flag</th>\n",
       "      <th>PULocationID</th>\n",
       "      <th>DOLocationID</th>\n",
       "      <th>payment_type</th>\n",
       "      <th>fare_amount</th>\n",
       "      <th>extra</th>\n",
       "      <th>mta_tax</th>\n",
       "      <th>tip_amount</th>\n",
       "      <th>tolls_amount</th>\n",
       "      <th>improvement_surcharge</th>\n",
       "      <th>total_amount</th>\n",
       "      <th>congestion_surcharge</th>\n",
       "      <th>airport_fee</th>\n",
       "    </tr>\n",
       "  </thead>\n",
       "  <tbody>\n",
       "    <tr>\n",
       "      <th>0</th>\n",
       "      <td>2</td>\n",
       "      <td>2023-01-01 00:32:10</td>\n",
       "      <td>2023-01-01 00:40:36</td>\n",
       "      <td>1.0</td>\n",
       "      <td>0.97</td>\n",
       "      <td>1.0</td>\n",
       "      <td>N</td>\n",
       "      <td>161</td>\n",
       "      <td>141</td>\n",
       "      <td>2</td>\n",
       "      <td>9.3</td>\n",
       "      <td>1.00</td>\n",
       "      <td>0.5</td>\n",
       "      <td>0.00</td>\n",
       "      <td>0.0</td>\n",
       "      <td>1.0</td>\n",
       "      <td>14.30</td>\n",
       "      <td>2.5</td>\n",
       "      <td>0.00</td>\n",
       "    </tr>\n",
       "    <tr>\n",
       "      <th>1</th>\n",
       "      <td>2</td>\n",
       "      <td>2023-01-01 00:55:08</td>\n",
       "      <td>2023-01-01 01:01:27</td>\n",
       "      <td>1.0</td>\n",
       "      <td>1.10</td>\n",
       "      <td>1.0</td>\n",
       "      <td>N</td>\n",
       "      <td>43</td>\n",
       "      <td>237</td>\n",
       "      <td>1</td>\n",
       "      <td>7.9</td>\n",
       "      <td>1.00</td>\n",
       "      <td>0.5</td>\n",
       "      <td>4.00</td>\n",
       "      <td>0.0</td>\n",
       "      <td>1.0</td>\n",
       "      <td>16.90</td>\n",
       "      <td>2.5</td>\n",
       "      <td>0.00</td>\n",
       "    </tr>\n",
       "    <tr>\n",
       "      <th>2</th>\n",
       "      <td>2</td>\n",
       "      <td>2023-01-01 00:25:04</td>\n",
       "      <td>2023-01-01 00:37:49</td>\n",
       "      <td>1.0</td>\n",
       "      <td>2.51</td>\n",
       "      <td>1.0</td>\n",
       "      <td>N</td>\n",
       "      <td>48</td>\n",
       "      <td>238</td>\n",
       "      <td>1</td>\n",
       "      <td>14.9</td>\n",
       "      <td>1.00</td>\n",
       "      <td>0.5</td>\n",
       "      <td>15.00</td>\n",
       "      <td>0.0</td>\n",
       "      <td>1.0</td>\n",
       "      <td>34.90</td>\n",
       "      <td>2.5</td>\n",
       "      <td>0.00</td>\n",
       "    </tr>\n",
       "    <tr>\n",
       "      <th>3</th>\n",
       "      <td>1</td>\n",
       "      <td>2023-01-01 00:03:48</td>\n",
       "      <td>2023-01-01 00:13:25</td>\n",
       "      <td>0.0</td>\n",
       "      <td>1.90</td>\n",
       "      <td>1.0</td>\n",
       "      <td>N</td>\n",
       "      <td>138</td>\n",
       "      <td>7</td>\n",
       "      <td>1</td>\n",
       "      <td>12.1</td>\n",
       "      <td>7.25</td>\n",
       "      <td>0.5</td>\n",
       "      <td>0.00</td>\n",
       "      <td>0.0</td>\n",
       "      <td>1.0</td>\n",
       "      <td>20.85</td>\n",
       "      <td>0.0</td>\n",
       "      <td>1.25</td>\n",
       "    </tr>\n",
       "    <tr>\n",
       "      <th>4</th>\n",
       "      <td>2</td>\n",
       "      <td>2023-01-01 00:10:29</td>\n",
       "      <td>2023-01-01 00:21:19</td>\n",
       "      <td>1.0</td>\n",
       "      <td>1.43</td>\n",
       "      <td>1.0</td>\n",
       "      <td>N</td>\n",
       "      <td>107</td>\n",
       "      <td>79</td>\n",
       "      <td>1</td>\n",
       "      <td>11.4</td>\n",
       "      <td>1.00</td>\n",
       "      <td>0.5</td>\n",
       "      <td>3.28</td>\n",
       "      <td>0.0</td>\n",
       "      <td>1.0</td>\n",
       "      <td>19.68</td>\n",
       "      <td>2.5</td>\n",
       "      <td>0.00</td>\n",
       "    </tr>\n",
       "  </tbody>\n",
       "</table>\n",
       "</div>"
      ],
      "text/plain": [
       "   VendorID tpep_pickup_datetime tpep_dropoff_datetime  passenger_count  \\\n",
       "0         2  2023-01-01 00:32:10   2023-01-01 00:40:36              1.0   \n",
       "1         2  2023-01-01 00:55:08   2023-01-01 01:01:27              1.0   \n",
       "2         2  2023-01-01 00:25:04   2023-01-01 00:37:49              1.0   \n",
       "3         1  2023-01-01 00:03:48   2023-01-01 00:13:25              0.0   \n",
       "4         2  2023-01-01 00:10:29   2023-01-01 00:21:19              1.0   \n",
       "\n",
       "   trip_distance  RatecodeID store_and_fwd_flag  PULocationID  DOLocationID  \\\n",
       "0           0.97         1.0                  N           161           141   \n",
       "1           1.10         1.0                  N            43           237   \n",
       "2           2.51         1.0                  N            48           238   \n",
       "3           1.90         1.0                  N           138             7   \n",
       "4           1.43         1.0                  N           107            79   \n",
       "\n",
       "   payment_type  fare_amount  extra  mta_tax  tip_amount  tolls_amount  \\\n",
       "0             2          9.3   1.00      0.5        0.00           0.0   \n",
       "1             1          7.9   1.00      0.5        4.00           0.0   \n",
       "2             1         14.9   1.00      0.5       15.00           0.0   \n",
       "3             1         12.1   7.25      0.5        0.00           0.0   \n",
       "4             1         11.4   1.00      0.5        3.28           0.0   \n",
       "\n",
       "   improvement_surcharge  total_amount  congestion_surcharge  airport_fee  \n",
       "0                    1.0         14.30                   2.5         0.00  \n",
       "1                    1.0         16.90                   2.5         0.00  \n",
       "2                    1.0         34.90                   2.5         0.00  \n",
       "3                    1.0         20.85                   0.0         1.25  \n",
       "4                    1.0         19.68                   2.5         0.00  "
      ]
     },
     "execution_count": 4,
     "metadata": {},
     "output_type": "execute_result"
    }
   ],
   "source": [
    "df_january.head(5)"
   ]
  },
  {
   "cell_type": "markdown",
   "id": "92e54c18-2595-4353-9cca-879b737533e8",
   "metadata": {},
   "source": [
    "# Q1. Downloading the data"
   ]
  },
  {
   "cell_type": "markdown",
   "id": "0fb8eddc-40aa-448c-86ca-7883bced82de",
   "metadata": {},
   "source": [
    "Read the data for January. How many columns are there?"
   ]
  },
  {
   "cell_type": "code",
   "execution_count": 5,
   "id": "30b2601a-8cd5-4bc8-9eb7-967b40e4f579",
   "metadata": {},
   "outputs": [
    {
     "data": {
      "text/plain": [
       "19"
      ]
     },
     "execution_count": 5,
     "metadata": {},
     "output_type": "execute_result"
    }
   ],
   "source": [
    "num_columns = df_january.shape[1]\n",
    "num_columns"
   ]
  },
  {
   "cell_type": "code",
   "execution_count": 6,
   "id": "9025891b-5964-4d1f-8921-49f2dd67fab9",
   "metadata": {},
   "outputs": [
    {
     "data": {
      "text/plain": [
       "19"
      ]
     },
     "execution_count": 6,
     "metadata": {},
     "output_type": "execute_result"
    }
   ],
   "source": [
    "num_columns = len(df_january.columns)\n",
    "num_columns"
   ]
  },
  {
   "cell_type": "markdown",
   "id": "c537d3b1-10b4-4247-ab74-b3d378c86b61",
   "metadata": {},
   "source": [
    "# Q2. Computing duration (Standard Deviation Jan)"
   ]
  },
  {
   "cell_type": "markdown",
   "id": "b5292c3a-6ef3-4f92-accf-c31c86bc908d",
   "metadata": {},
   "source": [
    "Now let's compute the duration variable. It should contain the duration of a ride in minutes.\n",
    "\n",
    "What's the standard deviation of the trips duration in January?"
   ]
  },
  {
   "cell_type": "code",
   "execution_count": 7,
   "id": "0adb1c42-429e-4825-9c3e-f45905f4b285",
   "metadata": {},
   "outputs": [],
   "source": [
    "df_january['duration'] = (pd.to_datetime(df_january['tpep_dropoff_datetime']) - pd.to_datetime(df_january['tpep_pickup_datetime'])).dt.total_seconds() / 60"
   ]
  },
  {
   "cell_type": "code",
   "execution_count": 8,
   "id": "fd1ee664-3a83-4327-868e-16add82e95ac",
   "metadata": {},
   "outputs": [
    {
     "data": {
      "text/html": [
       "<div>\n",
       "<style scoped>\n",
       "    .dataframe tbody tr th:only-of-type {\n",
       "        vertical-align: middle;\n",
       "    }\n",
       "\n",
       "    .dataframe tbody tr th {\n",
       "        vertical-align: top;\n",
       "    }\n",
       "\n",
       "    .dataframe thead th {\n",
       "        text-align: right;\n",
       "    }\n",
       "</style>\n",
       "<table border=\"1\" class=\"dataframe\">\n",
       "  <thead>\n",
       "    <tr style=\"text-align: right;\">\n",
       "      <th></th>\n",
       "      <th>VendorID</th>\n",
       "      <th>tpep_pickup_datetime</th>\n",
       "      <th>tpep_dropoff_datetime</th>\n",
       "      <th>passenger_count</th>\n",
       "      <th>trip_distance</th>\n",
       "      <th>RatecodeID</th>\n",
       "      <th>store_and_fwd_flag</th>\n",
       "      <th>PULocationID</th>\n",
       "      <th>DOLocationID</th>\n",
       "      <th>payment_type</th>\n",
       "      <th>fare_amount</th>\n",
       "      <th>extra</th>\n",
       "      <th>mta_tax</th>\n",
       "      <th>tip_amount</th>\n",
       "      <th>tolls_amount</th>\n",
       "      <th>improvement_surcharge</th>\n",
       "      <th>total_amount</th>\n",
       "      <th>congestion_surcharge</th>\n",
       "      <th>airport_fee</th>\n",
       "      <th>duration</th>\n",
       "    </tr>\n",
       "  </thead>\n",
       "  <tbody>\n",
       "    <tr>\n",
       "      <th>0</th>\n",
       "      <td>2</td>\n",
       "      <td>2023-01-01 00:32:10</td>\n",
       "      <td>2023-01-01 00:40:36</td>\n",
       "      <td>1.0</td>\n",
       "      <td>0.97</td>\n",
       "      <td>1.0</td>\n",
       "      <td>N</td>\n",
       "      <td>161</td>\n",
       "      <td>141</td>\n",
       "      <td>2</td>\n",
       "      <td>9.3</td>\n",
       "      <td>1.00</td>\n",
       "      <td>0.5</td>\n",
       "      <td>0.00</td>\n",
       "      <td>0.0</td>\n",
       "      <td>1.0</td>\n",
       "      <td>14.30</td>\n",
       "      <td>2.5</td>\n",
       "      <td>0.00</td>\n",
       "      <td>8.433333</td>\n",
       "    </tr>\n",
       "    <tr>\n",
       "      <th>1</th>\n",
       "      <td>2</td>\n",
       "      <td>2023-01-01 00:55:08</td>\n",
       "      <td>2023-01-01 01:01:27</td>\n",
       "      <td>1.0</td>\n",
       "      <td>1.10</td>\n",
       "      <td>1.0</td>\n",
       "      <td>N</td>\n",
       "      <td>43</td>\n",
       "      <td>237</td>\n",
       "      <td>1</td>\n",
       "      <td>7.9</td>\n",
       "      <td>1.00</td>\n",
       "      <td>0.5</td>\n",
       "      <td>4.00</td>\n",
       "      <td>0.0</td>\n",
       "      <td>1.0</td>\n",
       "      <td>16.90</td>\n",
       "      <td>2.5</td>\n",
       "      <td>0.00</td>\n",
       "      <td>6.316667</td>\n",
       "    </tr>\n",
       "    <tr>\n",
       "      <th>2</th>\n",
       "      <td>2</td>\n",
       "      <td>2023-01-01 00:25:04</td>\n",
       "      <td>2023-01-01 00:37:49</td>\n",
       "      <td>1.0</td>\n",
       "      <td>2.51</td>\n",
       "      <td>1.0</td>\n",
       "      <td>N</td>\n",
       "      <td>48</td>\n",
       "      <td>238</td>\n",
       "      <td>1</td>\n",
       "      <td>14.9</td>\n",
       "      <td>1.00</td>\n",
       "      <td>0.5</td>\n",
       "      <td>15.00</td>\n",
       "      <td>0.0</td>\n",
       "      <td>1.0</td>\n",
       "      <td>34.90</td>\n",
       "      <td>2.5</td>\n",
       "      <td>0.00</td>\n",
       "      <td>12.750000</td>\n",
       "    </tr>\n",
       "    <tr>\n",
       "      <th>3</th>\n",
       "      <td>1</td>\n",
       "      <td>2023-01-01 00:03:48</td>\n",
       "      <td>2023-01-01 00:13:25</td>\n",
       "      <td>0.0</td>\n",
       "      <td>1.90</td>\n",
       "      <td>1.0</td>\n",
       "      <td>N</td>\n",
       "      <td>138</td>\n",
       "      <td>7</td>\n",
       "      <td>1</td>\n",
       "      <td>12.1</td>\n",
       "      <td>7.25</td>\n",
       "      <td>0.5</td>\n",
       "      <td>0.00</td>\n",
       "      <td>0.0</td>\n",
       "      <td>1.0</td>\n",
       "      <td>20.85</td>\n",
       "      <td>0.0</td>\n",
       "      <td>1.25</td>\n",
       "      <td>9.616667</td>\n",
       "    </tr>\n",
       "    <tr>\n",
       "      <th>4</th>\n",
       "      <td>2</td>\n",
       "      <td>2023-01-01 00:10:29</td>\n",
       "      <td>2023-01-01 00:21:19</td>\n",
       "      <td>1.0</td>\n",
       "      <td>1.43</td>\n",
       "      <td>1.0</td>\n",
       "      <td>N</td>\n",
       "      <td>107</td>\n",
       "      <td>79</td>\n",
       "      <td>1</td>\n",
       "      <td>11.4</td>\n",
       "      <td>1.00</td>\n",
       "      <td>0.5</td>\n",
       "      <td>3.28</td>\n",
       "      <td>0.0</td>\n",
       "      <td>1.0</td>\n",
       "      <td>19.68</td>\n",
       "      <td>2.5</td>\n",
       "      <td>0.00</td>\n",
       "      <td>10.833333</td>\n",
       "    </tr>\n",
       "  </tbody>\n",
       "</table>\n",
       "</div>"
      ],
      "text/plain": [
       "   VendorID tpep_pickup_datetime tpep_dropoff_datetime  passenger_count  \\\n",
       "0         2  2023-01-01 00:32:10   2023-01-01 00:40:36              1.0   \n",
       "1         2  2023-01-01 00:55:08   2023-01-01 01:01:27              1.0   \n",
       "2         2  2023-01-01 00:25:04   2023-01-01 00:37:49              1.0   \n",
       "3         1  2023-01-01 00:03:48   2023-01-01 00:13:25              0.0   \n",
       "4         2  2023-01-01 00:10:29   2023-01-01 00:21:19              1.0   \n",
       "\n",
       "   trip_distance  RatecodeID store_and_fwd_flag  PULocationID  DOLocationID  \\\n",
       "0           0.97         1.0                  N           161           141   \n",
       "1           1.10         1.0                  N            43           237   \n",
       "2           2.51         1.0                  N            48           238   \n",
       "3           1.90         1.0                  N           138             7   \n",
       "4           1.43         1.0                  N           107            79   \n",
       "\n",
       "   payment_type  fare_amount  extra  mta_tax  tip_amount  tolls_amount  \\\n",
       "0             2          9.3   1.00      0.5        0.00           0.0   \n",
       "1             1          7.9   1.00      0.5        4.00           0.0   \n",
       "2             1         14.9   1.00      0.5       15.00           0.0   \n",
       "3             1         12.1   7.25      0.5        0.00           0.0   \n",
       "4             1         11.4   1.00      0.5        3.28           0.0   \n",
       "\n",
       "   improvement_surcharge  total_amount  congestion_surcharge  airport_fee  \\\n",
       "0                    1.0         14.30                   2.5         0.00   \n",
       "1                    1.0         16.90                   2.5         0.00   \n",
       "2                    1.0         34.90                   2.5         0.00   \n",
       "3                    1.0         20.85                   0.0         1.25   \n",
       "4                    1.0         19.68                   2.5         0.00   \n",
       "\n",
       "    duration  \n",
       "0   8.433333  \n",
       "1   6.316667  \n",
       "2  12.750000  \n",
       "3   9.616667  \n",
       "4  10.833333  "
      ]
     },
     "execution_count": 8,
     "metadata": {},
     "output_type": "execute_result"
    }
   ],
   "source": [
    "df_january.head(5)"
   ]
  },
  {
   "cell_type": "code",
   "execution_count": 9,
   "id": "a90a7ab6-3314-4f26-93b1-ab190bdd093d",
   "metadata": {},
   "outputs": [
    {
     "data": {
      "text/plain": [
       "42.594351241920904"
      ]
     },
     "execution_count": 9,
     "metadata": {},
     "output_type": "execute_result"
    }
   ],
   "source": [
    "std_duration = df_january['duration'].std()\n",
    "std_duration"
   ]
  },
  {
   "cell_type": "markdown",
   "id": "f097ada1-e3b1-4d58-b68d-7d427cebd78f",
   "metadata": {},
   "source": [
    "# Q3. Dropping outliers"
   ]
  },
  {
   "cell_type": "markdown",
   "id": "8ef1967d-1e32-4c79-8095-5b1950042e5a",
   "metadata": {},
   "source": [
    "Next, we need to check the distribution of the duration variable. There are some outliers. Let's remove them and keep only the records where the duration was between 1 and 60 minutes (inclusive).\n",
    "\n",
    "What fraction of the records left after you dropped the outliers?"
   ]
  },
  {
   "cell_type": "code",
   "execution_count": 10,
   "id": "4cf4047b-4721-418b-ae83-3e8feb9df6e8",
   "metadata": {},
   "outputs": [],
   "source": [
    "df_january['duration'] = (pd.to_datetime(df_january['tpep_dropoff_datetime']) - pd.to_datetime(df_january['tpep_pickup_datetime'])).dt.total_seconds() / 60"
   ]
  },
  {
   "cell_type": "code",
   "execution_count": 11,
   "id": "11c67eea-713e-400d-bb11-cb9cb6fc2a95",
   "metadata": {},
   "outputs": [],
   "source": [
    "filtered_data = df_january[(df_january['duration'] >= 1) & (df_january['duration'] <= 60)]"
   ]
  },
  {
   "cell_type": "code",
   "execution_count": 12,
   "id": "ccb9821f-9545-459c-a6b4-f04171a1a658",
   "metadata": {},
   "outputs": [
    {
     "data": {
      "text/plain": [
       "0.9812202822125979"
      ]
     },
     "execution_count": 12,
     "metadata": {},
     "output_type": "execute_result"
    }
   ],
   "source": [
    "fraction_left = len(filtered_data) / len(df_january)\n",
    "fraction_left"
   ]
  },
  {
   "cell_type": "markdown",
   "id": "c3decd14-6e49-46ea-8ab3-36345f6469ac",
   "metadata": {},
   "source": [
    "# Q4. One-hot encoding"
   ]
  },
  {
   "cell_type": "markdown",
   "id": "53e8a307-f25d-4760-9663-8a55fddb1af5",
   "metadata": {},
   "source": [
    "Let's apply one-hot encoding to the pickup and dropoff location IDs. We'll use only these two features for our model.\n",
    "\n",
    "- Turn the dataframe into a list of dictionaries (remember to re-cast the ids to strings - otherwise it will label encode them)\n",
    "- Fit a dictionary vectorizer\n",
    "- Get a feature matrix from it\n",
    "\n",
    " it\n",
    "What's the dimensionality of this matrix (number of columns)?"
   ]
  },
  {
   "cell_type": "code",
   "execution_count": 13,
   "id": "7f6e0913-7cff-4771-8b27-92133ed58279",
   "metadata": {},
   "outputs": [],
   "source": [
    "categorical = ['PULocationID', 'DOLocationID']"
   ]
  },
  {
   "cell_type": "code",
   "execution_count": 14,
   "id": "c6571a85-418b-4cd7-a711-fcad26eb6d1b",
   "metadata": {},
   "outputs": [
    {
     "data": {
      "text/plain": [
       "PULocationID    int64\n",
       "DOLocationID    int64\n",
       "dtype: object"
      ]
     },
     "execution_count": 14,
     "metadata": {},
     "output_type": "execute_result"
    }
   ],
   "source": [
    "filtered_data[categorical].dtypes"
   ]
  },
  {
   "cell_type": "code",
   "execution_count": 15,
   "id": "258bdc09-d490-40d4-88e1-ccb1c0f50e70",
   "metadata": {},
   "outputs": [],
   "source": [
    "# Re-cast the IDs to strings\n",
    "filtered_data.loc[:, categorical] = filtered_data[categorical].astype(str)"
   ]
  },
  {
   "cell_type": "code",
   "execution_count": 16,
   "id": "7f3781ea-1178-4a03-b9b5-4ba3720ccab6",
   "metadata": {},
   "outputs": [
    {
     "data": {
      "text/plain": [
       "PULocationID    object\n",
       "DOLocationID    object\n",
       "dtype: object"
      ]
     },
     "execution_count": 16,
     "metadata": {},
     "output_type": "execute_result"
    }
   ],
   "source": [
    "filtered_data[categorical].dtypes"
   ]
  },
  {
   "cell_type": "code",
   "execution_count": 17,
   "id": "eaa6571a-3b4f-4d2d-ac5c-54854e308836",
   "metadata": {},
   "outputs": [
    {
     "data": {
      "text/html": [
       "<div>\n",
       "<style scoped>\n",
       "    .dataframe tbody tr th:only-of-type {\n",
       "        vertical-align: middle;\n",
       "    }\n",
       "\n",
       "    .dataframe tbody tr th {\n",
       "        vertical-align: top;\n",
       "    }\n",
       "\n",
       "    .dataframe thead th {\n",
       "        text-align: right;\n",
       "    }\n",
       "</style>\n",
       "<table border=\"1\" class=\"dataframe\">\n",
       "  <thead>\n",
       "    <tr style=\"text-align: right;\">\n",
       "      <th></th>\n",
       "      <th>PULocationID</th>\n",
       "      <th>DOLocationID</th>\n",
       "    </tr>\n",
       "  </thead>\n",
       "  <tbody>\n",
       "    <tr>\n",
       "      <th>0</th>\n",
       "      <td>161</td>\n",
       "      <td>141</td>\n",
       "    </tr>\n",
       "    <tr>\n",
       "      <th>1</th>\n",
       "      <td>43</td>\n",
       "      <td>237</td>\n",
       "    </tr>\n",
       "    <tr>\n",
       "      <th>2</th>\n",
       "      <td>48</td>\n",
       "      <td>238</td>\n",
       "    </tr>\n",
       "    <tr>\n",
       "      <th>3</th>\n",
       "      <td>138</td>\n",
       "      <td>7</td>\n",
       "    </tr>\n",
       "    <tr>\n",
       "      <th>4</th>\n",
       "      <td>107</td>\n",
       "      <td>79</td>\n",
       "    </tr>\n",
       "  </tbody>\n",
       "</table>\n",
       "</div>"
      ],
      "text/plain": [
       "  PULocationID DOLocationID\n",
       "0          161          141\n",
       "1           43          237\n",
       "2           48          238\n",
       "3          138            7\n",
       "4          107           79"
      ]
     },
     "execution_count": 17,
     "metadata": {},
     "output_type": "execute_result"
    }
   ],
   "source": [
    "# Keep three columns\n",
    "df_selected = filtered_data[categorical]\n",
    "df_selected.head()"
   ]
  },
  {
   "cell_type": "code",
   "execution_count": 18,
   "id": "568cdbfa-6627-4a9f-9a2f-62cf7c5a1b34",
   "metadata": {},
   "outputs": [
    {
     "name": "stdout",
     "output_type": "stream",
     "text": [
      "(3009173, 2)\n"
     ]
    }
   ],
   "source": [
    "print(df_selected.shape)"
   ]
  },
  {
   "cell_type": "code",
   "execution_count": 19,
   "id": "6937e094-132c-44d1-abcb-92b983dddc4a",
   "metadata": {},
   "outputs": [],
   "source": [
    "# Convert the dataframe to a list of dictionaries\n",
    "train_dicts = df_selected.to_dict(orient='records')"
   ]
  },
  {
   "cell_type": "code",
   "execution_count": 20,
   "id": "e1cc2d78-500e-4bcd-ad15-479cf38acf3f",
   "metadata": {},
   "outputs": [],
   "source": [
    "# Initialize the dictionary vectorizer\n",
    "dv = DictVectorizer()\n",
    "# Fit the vectorizer and transform the data into a feature matrix\n",
    "X_train = dv.fit_transform(train_dicts)"
   ]
  },
  {
   "cell_type": "code",
   "execution_count": 21,
   "id": "dd2e4709-4a60-4061-b05b-bfd9247b6a25",
   "metadata": {},
   "outputs": [
    {
     "data": {
      "text/plain": [
       "['DOLocationID=1',\n",
       " 'DOLocationID=10',\n",
       " 'DOLocationID=100',\n",
       " 'DOLocationID=101',\n",
       " 'DOLocationID=102',\n",
       " 'DOLocationID=106',\n",
       " 'DOLocationID=107',\n",
       " 'DOLocationID=108',\n",
       " 'DOLocationID=109',\n",
       " 'DOLocationID=11',\n",
       " 'DOLocationID=111',\n",
       " 'DOLocationID=112',\n",
       " 'DOLocationID=113',\n",
       " 'DOLocationID=114',\n",
       " 'DOLocationID=115',\n",
       " 'DOLocationID=116',\n",
       " 'DOLocationID=117',\n",
       " 'DOLocationID=118',\n",
       " 'DOLocationID=119',\n",
       " 'DOLocationID=12',\n",
       " 'DOLocationID=120',\n",
       " 'DOLocationID=121',\n",
       " 'DOLocationID=122',\n",
       " 'DOLocationID=123',\n",
       " 'DOLocationID=124',\n",
       " 'DOLocationID=125',\n",
       " 'DOLocationID=126',\n",
       " 'DOLocationID=127',\n",
       " 'DOLocationID=128',\n",
       " 'DOLocationID=129',\n",
       " 'DOLocationID=13',\n",
       " 'DOLocationID=130',\n",
       " 'DOLocationID=131',\n",
       " 'DOLocationID=132',\n",
       " 'DOLocationID=133',\n",
       " 'DOLocationID=134',\n",
       " 'DOLocationID=135',\n",
       " 'DOLocationID=136',\n",
       " 'DOLocationID=137',\n",
       " 'DOLocationID=138',\n",
       " 'DOLocationID=139',\n",
       " 'DOLocationID=14',\n",
       " 'DOLocationID=140',\n",
       " 'DOLocationID=141',\n",
       " 'DOLocationID=142',\n",
       " 'DOLocationID=143',\n",
       " 'DOLocationID=144',\n",
       " 'DOLocationID=145',\n",
       " 'DOLocationID=146',\n",
       " 'DOLocationID=147',\n",
       " 'DOLocationID=148',\n",
       " 'DOLocationID=149',\n",
       " 'DOLocationID=15',\n",
       " 'DOLocationID=150',\n",
       " 'DOLocationID=151',\n",
       " 'DOLocationID=152',\n",
       " 'DOLocationID=153',\n",
       " 'DOLocationID=154',\n",
       " 'DOLocationID=155',\n",
       " 'DOLocationID=156',\n",
       " 'DOLocationID=157',\n",
       " 'DOLocationID=158',\n",
       " 'DOLocationID=159',\n",
       " 'DOLocationID=16',\n",
       " 'DOLocationID=160',\n",
       " 'DOLocationID=161',\n",
       " 'DOLocationID=162',\n",
       " 'DOLocationID=163',\n",
       " 'DOLocationID=164',\n",
       " 'DOLocationID=165',\n",
       " 'DOLocationID=166',\n",
       " 'DOLocationID=167',\n",
       " 'DOLocationID=168',\n",
       " 'DOLocationID=169',\n",
       " 'DOLocationID=17',\n",
       " 'DOLocationID=170',\n",
       " 'DOLocationID=171',\n",
       " 'DOLocationID=172',\n",
       " 'DOLocationID=173',\n",
       " 'DOLocationID=174',\n",
       " 'DOLocationID=175',\n",
       " 'DOLocationID=176',\n",
       " 'DOLocationID=177',\n",
       " 'DOLocationID=178',\n",
       " 'DOLocationID=179',\n",
       " 'DOLocationID=18',\n",
       " 'DOLocationID=180',\n",
       " 'DOLocationID=181',\n",
       " 'DOLocationID=182',\n",
       " 'DOLocationID=183',\n",
       " 'DOLocationID=184',\n",
       " 'DOLocationID=185',\n",
       " 'DOLocationID=186',\n",
       " 'DOLocationID=187',\n",
       " 'DOLocationID=188',\n",
       " 'DOLocationID=189',\n",
       " 'DOLocationID=19',\n",
       " 'DOLocationID=190',\n",
       " 'DOLocationID=191',\n",
       " 'DOLocationID=192',\n",
       " 'DOLocationID=193',\n",
       " 'DOLocationID=194',\n",
       " 'DOLocationID=195',\n",
       " 'DOLocationID=196',\n",
       " 'DOLocationID=197',\n",
       " 'DOLocationID=198',\n",
       " 'DOLocationID=2',\n",
       " 'DOLocationID=20',\n",
       " 'DOLocationID=200',\n",
       " 'DOLocationID=201',\n",
       " 'DOLocationID=202',\n",
       " 'DOLocationID=203',\n",
       " 'DOLocationID=204',\n",
       " 'DOLocationID=205',\n",
       " 'DOLocationID=206',\n",
       " 'DOLocationID=207',\n",
       " 'DOLocationID=208',\n",
       " 'DOLocationID=209',\n",
       " 'DOLocationID=21',\n",
       " 'DOLocationID=210',\n",
       " 'DOLocationID=211',\n",
       " 'DOLocationID=212',\n",
       " 'DOLocationID=213',\n",
       " 'DOLocationID=214',\n",
       " 'DOLocationID=215',\n",
       " 'DOLocationID=216',\n",
       " 'DOLocationID=217',\n",
       " 'DOLocationID=218',\n",
       " 'DOLocationID=219',\n",
       " 'DOLocationID=22',\n",
       " 'DOLocationID=220',\n",
       " 'DOLocationID=221',\n",
       " 'DOLocationID=222',\n",
       " 'DOLocationID=223',\n",
       " 'DOLocationID=224',\n",
       " 'DOLocationID=225',\n",
       " 'DOLocationID=226',\n",
       " 'DOLocationID=227',\n",
       " 'DOLocationID=228',\n",
       " 'DOLocationID=229',\n",
       " 'DOLocationID=23',\n",
       " 'DOLocationID=230',\n",
       " 'DOLocationID=231',\n",
       " 'DOLocationID=232',\n",
       " 'DOLocationID=233',\n",
       " 'DOLocationID=234',\n",
       " 'DOLocationID=235',\n",
       " 'DOLocationID=236',\n",
       " 'DOLocationID=237',\n",
       " 'DOLocationID=238',\n",
       " 'DOLocationID=239',\n",
       " 'DOLocationID=24',\n",
       " 'DOLocationID=240',\n",
       " 'DOLocationID=241',\n",
       " 'DOLocationID=242',\n",
       " 'DOLocationID=243',\n",
       " 'DOLocationID=244',\n",
       " 'DOLocationID=245',\n",
       " 'DOLocationID=246',\n",
       " 'DOLocationID=247',\n",
       " 'DOLocationID=248',\n",
       " 'DOLocationID=249',\n",
       " 'DOLocationID=25',\n",
       " 'DOLocationID=250',\n",
       " 'DOLocationID=251',\n",
       " 'DOLocationID=252',\n",
       " 'DOLocationID=253',\n",
       " 'DOLocationID=254',\n",
       " 'DOLocationID=255',\n",
       " 'DOLocationID=256',\n",
       " 'DOLocationID=257',\n",
       " 'DOLocationID=258',\n",
       " 'DOLocationID=259',\n",
       " 'DOLocationID=26',\n",
       " 'DOLocationID=260',\n",
       " 'DOLocationID=261',\n",
       " 'DOLocationID=262',\n",
       " 'DOLocationID=263',\n",
       " 'DOLocationID=264',\n",
       " 'DOLocationID=265',\n",
       " 'DOLocationID=27',\n",
       " 'DOLocationID=28',\n",
       " 'DOLocationID=29',\n",
       " 'DOLocationID=3',\n",
       " 'DOLocationID=30',\n",
       " 'DOLocationID=31',\n",
       " 'DOLocationID=32',\n",
       " 'DOLocationID=33',\n",
       " 'DOLocationID=34',\n",
       " 'DOLocationID=35',\n",
       " 'DOLocationID=36',\n",
       " 'DOLocationID=37',\n",
       " 'DOLocationID=38',\n",
       " 'DOLocationID=39',\n",
       " 'DOLocationID=4',\n",
       " 'DOLocationID=40',\n",
       " 'DOLocationID=41',\n",
       " 'DOLocationID=42',\n",
       " 'DOLocationID=43',\n",
       " 'DOLocationID=44',\n",
       " 'DOLocationID=45',\n",
       " 'DOLocationID=46',\n",
       " 'DOLocationID=47',\n",
       " 'DOLocationID=48',\n",
       " 'DOLocationID=49',\n",
       " 'DOLocationID=5',\n",
       " 'DOLocationID=50',\n",
       " 'DOLocationID=51',\n",
       " 'DOLocationID=52',\n",
       " 'DOLocationID=53',\n",
       " 'DOLocationID=54',\n",
       " 'DOLocationID=55',\n",
       " 'DOLocationID=56',\n",
       " 'DOLocationID=57',\n",
       " 'DOLocationID=58',\n",
       " 'DOLocationID=59',\n",
       " 'DOLocationID=6',\n",
       " 'DOLocationID=60',\n",
       " 'DOLocationID=61',\n",
       " 'DOLocationID=62',\n",
       " 'DOLocationID=63',\n",
       " 'DOLocationID=64',\n",
       " 'DOLocationID=65',\n",
       " 'DOLocationID=66',\n",
       " 'DOLocationID=67',\n",
       " 'DOLocationID=68',\n",
       " 'DOLocationID=69',\n",
       " 'DOLocationID=7',\n",
       " 'DOLocationID=70',\n",
       " 'DOLocationID=71',\n",
       " 'DOLocationID=72',\n",
       " 'DOLocationID=73',\n",
       " 'DOLocationID=74',\n",
       " 'DOLocationID=75',\n",
       " 'DOLocationID=76',\n",
       " 'DOLocationID=77',\n",
       " 'DOLocationID=78',\n",
       " 'DOLocationID=79',\n",
       " 'DOLocationID=8',\n",
       " 'DOLocationID=80',\n",
       " 'DOLocationID=81',\n",
       " 'DOLocationID=82',\n",
       " 'DOLocationID=83',\n",
       " 'DOLocationID=84',\n",
       " 'DOLocationID=85',\n",
       " 'DOLocationID=86',\n",
       " 'DOLocationID=87',\n",
       " 'DOLocationID=88',\n",
       " 'DOLocationID=89',\n",
       " 'DOLocationID=9',\n",
       " 'DOLocationID=90',\n",
       " 'DOLocationID=91',\n",
       " 'DOLocationID=92',\n",
       " 'DOLocationID=93',\n",
       " 'DOLocationID=94',\n",
       " 'DOLocationID=95',\n",
       " 'DOLocationID=96',\n",
       " 'DOLocationID=97',\n",
       " 'DOLocationID=98',\n",
       " 'DOLocationID=99',\n",
       " 'PULocationID=1',\n",
       " 'PULocationID=10',\n",
       " 'PULocationID=100',\n",
       " 'PULocationID=101',\n",
       " 'PULocationID=102',\n",
       " 'PULocationID=106',\n",
       " 'PULocationID=107',\n",
       " 'PULocationID=108',\n",
       " 'PULocationID=109',\n",
       " 'PULocationID=11',\n",
       " 'PULocationID=111',\n",
       " 'PULocationID=112',\n",
       " 'PULocationID=113',\n",
       " 'PULocationID=114',\n",
       " 'PULocationID=115',\n",
       " 'PULocationID=116',\n",
       " 'PULocationID=117',\n",
       " 'PULocationID=118',\n",
       " 'PULocationID=119',\n",
       " 'PULocationID=12',\n",
       " 'PULocationID=120',\n",
       " 'PULocationID=121',\n",
       " 'PULocationID=122',\n",
       " 'PULocationID=123',\n",
       " 'PULocationID=124',\n",
       " 'PULocationID=125',\n",
       " 'PULocationID=126',\n",
       " 'PULocationID=127',\n",
       " 'PULocationID=128',\n",
       " 'PULocationID=129',\n",
       " 'PULocationID=13',\n",
       " 'PULocationID=130',\n",
       " 'PULocationID=131',\n",
       " 'PULocationID=132',\n",
       " 'PULocationID=133',\n",
       " 'PULocationID=134',\n",
       " 'PULocationID=135',\n",
       " 'PULocationID=136',\n",
       " 'PULocationID=137',\n",
       " 'PULocationID=138',\n",
       " 'PULocationID=139',\n",
       " 'PULocationID=14',\n",
       " 'PULocationID=140',\n",
       " 'PULocationID=141',\n",
       " 'PULocationID=142',\n",
       " 'PULocationID=143',\n",
       " 'PULocationID=144',\n",
       " 'PULocationID=145',\n",
       " 'PULocationID=146',\n",
       " 'PULocationID=147',\n",
       " 'PULocationID=148',\n",
       " 'PULocationID=149',\n",
       " 'PULocationID=15',\n",
       " 'PULocationID=150',\n",
       " 'PULocationID=151',\n",
       " 'PULocationID=152',\n",
       " 'PULocationID=153',\n",
       " 'PULocationID=154',\n",
       " 'PULocationID=155',\n",
       " 'PULocationID=156',\n",
       " 'PULocationID=157',\n",
       " 'PULocationID=158',\n",
       " 'PULocationID=159',\n",
       " 'PULocationID=16',\n",
       " 'PULocationID=160',\n",
       " 'PULocationID=161',\n",
       " 'PULocationID=162',\n",
       " 'PULocationID=163',\n",
       " 'PULocationID=164',\n",
       " 'PULocationID=165',\n",
       " 'PULocationID=166',\n",
       " 'PULocationID=167',\n",
       " 'PULocationID=168',\n",
       " 'PULocationID=169',\n",
       " 'PULocationID=17',\n",
       " 'PULocationID=170',\n",
       " 'PULocationID=171',\n",
       " 'PULocationID=172',\n",
       " 'PULocationID=173',\n",
       " 'PULocationID=174',\n",
       " 'PULocationID=175',\n",
       " 'PULocationID=177',\n",
       " 'PULocationID=178',\n",
       " 'PULocationID=179',\n",
       " 'PULocationID=18',\n",
       " 'PULocationID=180',\n",
       " 'PULocationID=181',\n",
       " 'PULocationID=182',\n",
       " 'PULocationID=183',\n",
       " 'PULocationID=184',\n",
       " 'PULocationID=185',\n",
       " 'PULocationID=186',\n",
       " 'PULocationID=187',\n",
       " 'PULocationID=188',\n",
       " 'PULocationID=189',\n",
       " 'PULocationID=19',\n",
       " 'PULocationID=190',\n",
       " 'PULocationID=191',\n",
       " 'PULocationID=192',\n",
       " 'PULocationID=193',\n",
       " 'PULocationID=194',\n",
       " 'PULocationID=195',\n",
       " 'PULocationID=196',\n",
       " 'PULocationID=197',\n",
       " 'PULocationID=198',\n",
       " 'PULocationID=199',\n",
       " 'PULocationID=2',\n",
       " 'PULocationID=20',\n",
       " 'PULocationID=200',\n",
       " 'PULocationID=201',\n",
       " 'PULocationID=202',\n",
       " 'PULocationID=203',\n",
       " 'PULocationID=205',\n",
       " 'PULocationID=206',\n",
       " 'PULocationID=207',\n",
       " 'PULocationID=208',\n",
       " 'PULocationID=209',\n",
       " 'PULocationID=21',\n",
       " 'PULocationID=210',\n",
       " 'PULocationID=211',\n",
       " 'PULocationID=212',\n",
       " 'PULocationID=213',\n",
       " 'PULocationID=214',\n",
       " 'PULocationID=215',\n",
       " 'PULocationID=216',\n",
       " 'PULocationID=217',\n",
       " 'PULocationID=218',\n",
       " 'PULocationID=219',\n",
       " 'PULocationID=22',\n",
       " 'PULocationID=220',\n",
       " 'PULocationID=221',\n",
       " 'PULocationID=222',\n",
       " 'PULocationID=223',\n",
       " 'PULocationID=224',\n",
       " 'PULocationID=225',\n",
       " 'PULocationID=226',\n",
       " 'PULocationID=227',\n",
       " 'PULocationID=228',\n",
       " 'PULocationID=229',\n",
       " 'PULocationID=23',\n",
       " 'PULocationID=230',\n",
       " 'PULocationID=231',\n",
       " 'PULocationID=232',\n",
       " 'PULocationID=233',\n",
       " 'PULocationID=234',\n",
       " 'PULocationID=235',\n",
       " 'PULocationID=236',\n",
       " 'PULocationID=237',\n",
       " 'PULocationID=238',\n",
       " 'PULocationID=239',\n",
       " 'PULocationID=24',\n",
       " 'PULocationID=240',\n",
       " 'PULocationID=241',\n",
       " 'PULocationID=242',\n",
       " 'PULocationID=243',\n",
       " 'PULocationID=244',\n",
       " 'PULocationID=245',\n",
       " 'PULocationID=246',\n",
       " 'PULocationID=247',\n",
       " 'PULocationID=248',\n",
       " 'PULocationID=249',\n",
       " 'PULocationID=25',\n",
       " 'PULocationID=250',\n",
       " 'PULocationID=251',\n",
       " 'PULocationID=252',\n",
       " 'PULocationID=253',\n",
       " 'PULocationID=254',\n",
       " 'PULocationID=255',\n",
       " 'PULocationID=256',\n",
       " 'PULocationID=257',\n",
       " 'PULocationID=258',\n",
       " 'PULocationID=259',\n",
       " 'PULocationID=26',\n",
       " 'PULocationID=260',\n",
       " 'PULocationID=261',\n",
       " 'PULocationID=262',\n",
       " 'PULocationID=263',\n",
       " 'PULocationID=264',\n",
       " 'PULocationID=265',\n",
       " 'PULocationID=28',\n",
       " 'PULocationID=29',\n",
       " 'PULocationID=3',\n",
       " 'PULocationID=30',\n",
       " 'PULocationID=31',\n",
       " 'PULocationID=32',\n",
       " 'PULocationID=33',\n",
       " 'PULocationID=34',\n",
       " 'PULocationID=35',\n",
       " 'PULocationID=36',\n",
       " 'PULocationID=37',\n",
       " 'PULocationID=38',\n",
       " 'PULocationID=39',\n",
       " 'PULocationID=4',\n",
       " 'PULocationID=40',\n",
       " 'PULocationID=41',\n",
       " 'PULocationID=42',\n",
       " 'PULocationID=43',\n",
       " 'PULocationID=44',\n",
       " 'PULocationID=45',\n",
       " 'PULocationID=46',\n",
       " 'PULocationID=47',\n",
       " 'PULocationID=48',\n",
       " 'PULocationID=49',\n",
       " 'PULocationID=5',\n",
       " 'PULocationID=50',\n",
       " 'PULocationID=51',\n",
       " 'PULocationID=52',\n",
       " 'PULocationID=53',\n",
       " 'PULocationID=54',\n",
       " 'PULocationID=55',\n",
       " 'PULocationID=56',\n",
       " 'PULocationID=57',\n",
       " 'PULocationID=58',\n",
       " 'PULocationID=6',\n",
       " 'PULocationID=60',\n",
       " 'PULocationID=61',\n",
       " 'PULocationID=62',\n",
       " 'PULocationID=63',\n",
       " 'PULocationID=64',\n",
       " 'PULocationID=65',\n",
       " 'PULocationID=66',\n",
       " 'PULocationID=67',\n",
       " 'PULocationID=68',\n",
       " 'PULocationID=69',\n",
       " 'PULocationID=7',\n",
       " 'PULocationID=70',\n",
       " 'PULocationID=71',\n",
       " 'PULocationID=72',\n",
       " 'PULocationID=73',\n",
       " 'PULocationID=74',\n",
       " 'PULocationID=75',\n",
       " 'PULocationID=76',\n",
       " 'PULocationID=77',\n",
       " 'PULocationID=78',\n",
       " 'PULocationID=79',\n",
       " 'PULocationID=8',\n",
       " 'PULocationID=80',\n",
       " 'PULocationID=81',\n",
       " 'PULocationID=82',\n",
       " 'PULocationID=83',\n",
       " 'PULocationID=85',\n",
       " 'PULocationID=86',\n",
       " 'PULocationID=87',\n",
       " 'PULocationID=88',\n",
       " 'PULocationID=89',\n",
       " 'PULocationID=9',\n",
       " 'PULocationID=90',\n",
       " 'PULocationID=91',\n",
       " 'PULocationID=92',\n",
       " 'PULocationID=93',\n",
       " 'PULocationID=94',\n",
       " 'PULocationID=95',\n",
       " 'PULocationID=96',\n",
       " 'PULocationID=97',\n",
       " 'PULocationID=98']"
      ]
     },
     "execution_count": 21,
     "metadata": {},
     "output_type": "execute_result"
    }
   ],
   "source": [
    "dv.feature_names_"
   ]
  },
  {
   "cell_type": "code",
   "execution_count": 22,
   "id": "6b3841ec-bcdf-4794-ae1a-a54ec5ed2a98",
   "metadata": {},
   "outputs": [
    {
     "data": {
      "text/plain": [
       "<3009173x515 sparse matrix of type '<class 'numpy.float64'>'\n",
       "\twith 6018346 stored elements in Compressed Sparse Row format>"
      ]
     },
     "execution_count": 22,
     "metadata": {},
     "output_type": "execute_result"
    }
   ],
   "source": [
    "X_train"
   ]
  },
  {
   "cell_type": "code",
   "execution_count": 23,
   "id": "5c0a18b4-79fd-4b66-b499-4e0721a4834b",
   "metadata": {},
   "outputs": [
    {
     "data": {
      "text/plain": [
       "515"
      ]
     },
     "execution_count": 23,
     "metadata": {},
     "output_type": "execute_result"
    }
   ],
   "source": [
    "# Get the dimensionality of the feature matrix\n",
    "num_columns = X_train.shape[1]\n",
    "num_columns"
   ]
  },
  {
   "cell_type": "markdown",
   "id": "eb129f44-498a-4ade-8a57-90b22e8ed485",
   "metadata": {},
   "source": [
    "# Q5. Training a model"
   ]
  },
  {
   "cell_type": "markdown",
   "id": "1bbeb44d-9d9d-41cf-a9a4-530519606e27",
   "metadata": {},
   "source": [
    "Now let's use the feature matrix from the previous step to train a model.\n",
    "- \n",
    "Train a plain linear regression model with default parameter- s\n",
    "Calculate the RMSE of the model on the training d\n",
    "ata\n",
    "What's the RMSE on train?"
   ]
  },
  {
   "cell_type": "code",
   "execution_count": 24,
   "id": "9be24a4c-989c-444f-be86-b6b2b1bb65ae",
   "metadata": {},
   "outputs": [],
   "source": [
    "# Get the Y\n",
    "target = 'duration'\n",
    "y_train = filtered_data[target].values"
   ]
  },
  {
   "cell_type": "code",
   "execution_count": 32,
   "id": "2a1b4dac-8896-429b-8249-a5b5d1314011",
   "metadata": {},
   "outputs": [
    {
     "data": {
      "text/plain": [
       "array([ 8.43333333,  6.31666667, 12.75      , ..., 24.51666667,\n",
       "       13.        , 14.4       ])"
      ]
     },
     "execution_count": 32,
     "metadata": {},
     "output_type": "execute_result"
    }
   ],
   "source": [
    "y_train"
   ]
  },
  {
   "cell_type": "code",
   "execution_count": 25,
   "id": "f1b8fe77-4a00-4767-a3b5-3dc832dd7741",
   "metadata": {},
   "outputs": [
    {
     "data": {
      "text/html": [
       "<style>#sk-container-id-1 {color: black;background-color: white;}#sk-container-id-1 pre{padding: 0;}#sk-container-id-1 div.sk-toggleable {background-color: white;}#sk-container-id-1 label.sk-toggleable__label {cursor: pointer;display: block;width: 100%;margin-bottom: 0;padding: 0.3em;box-sizing: border-box;text-align: center;}#sk-container-id-1 label.sk-toggleable__label-arrow:before {content: \"▸\";float: left;margin-right: 0.25em;color: #696969;}#sk-container-id-1 label.sk-toggleable__label-arrow:hover:before {color: black;}#sk-container-id-1 div.sk-estimator:hover label.sk-toggleable__label-arrow:before {color: black;}#sk-container-id-1 div.sk-toggleable__content {max-height: 0;max-width: 0;overflow: hidden;text-align: left;background-color: #f0f8ff;}#sk-container-id-1 div.sk-toggleable__content pre {margin: 0.2em;color: black;border-radius: 0.25em;background-color: #f0f8ff;}#sk-container-id-1 input.sk-toggleable__control:checked~div.sk-toggleable__content {max-height: 200px;max-width: 100%;overflow: auto;}#sk-container-id-1 input.sk-toggleable__control:checked~label.sk-toggleable__label-arrow:before {content: \"▾\";}#sk-container-id-1 div.sk-estimator input.sk-toggleable__control:checked~label.sk-toggleable__label {background-color: #d4ebff;}#sk-container-id-1 div.sk-label input.sk-toggleable__control:checked~label.sk-toggleable__label {background-color: #d4ebff;}#sk-container-id-1 input.sk-hidden--visually {border: 0;clip: rect(1px 1px 1px 1px);clip: rect(1px, 1px, 1px, 1px);height: 1px;margin: -1px;overflow: hidden;padding: 0;position: absolute;width: 1px;}#sk-container-id-1 div.sk-estimator {font-family: monospace;background-color: #f0f8ff;border: 1px dotted black;border-radius: 0.25em;box-sizing: border-box;margin-bottom: 0.5em;}#sk-container-id-1 div.sk-estimator:hover {background-color: #d4ebff;}#sk-container-id-1 div.sk-parallel-item::after {content: \"\";width: 100%;border-bottom: 1px solid gray;flex-grow: 1;}#sk-container-id-1 div.sk-label:hover label.sk-toggleable__label {background-color: #d4ebff;}#sk-container-id-1 div.sk-serial::before {content: \"\";position: absolute;border-left: 1px solid gray;box-sizing: border-box;top: 0;bottom: 0;left: 50%;z-index: 0;}#sk-container-id-1 div.sk-serial {display: flex;flex-direction: column;align-items: center;background-color: white;padding-right: 0.2em;padding-left: 0.2em;position: relative;}#sk-container-id-1 div.sk-item {position: relative;z-index: 1;}#sk-container-id-1 div.sk-parallel {display: flex;align-items: stretch;justify-content: center;background-color: white;position: relative;}#sk-container-id-1 div.sk-item::before, #sk-container-id-1 div.sk-parallel-item::before {content: \"\";position: absolute;border-left: 1px solid gray;box-sizing: border-box;top: 0;bottom: 0;left: 50%;z-index: -1;}#sk-container-id-1 div.sk-parallel-item {display: flex;flex-direction: column;z-index: 1;position: relative;background-color: white;}#sk-container-id-1 div.sk-parallel-item:first-child::after {align-self: flex-end;width: 50%;}#sk-container-id-1 div.sk-parallel-item:last-child::after {align-self: flex-start;width: 50%;}#sk-container-id-1 div.sk-parallel-item:only-child::after {width: 0;}#sk-container-id-1 div.sk-dashed-wrapped {border: 1px dashed gray;margin: 0 0.4em 0.5em 0.4em;box-sizing: border-box;padding-bottom: 0.4em;background-color: white;}#sk-container-id-1 div.sk-label label {font-family: monospace;font-weight: bold;display: inline-block;line-height: 1.2em;}#sk-container-id-1 div.sk-label-container {text-align: center;}#sk-container-id-1 div.sk-container {/* jupyter's `normalize.less` sets `[hidden] { display: none; }` but bootstrap.min.css set `[hidden] { display: none !important; }` so we also need the `!important` here to be able to override the default hidden behavior on the sphinx rendered scikit-learn.org. See: https://github.com/scikit-learn/scikit-learn/issues/21755 */display: inline-block !important;position: relative;}#sk-container-id-1 div.sk-text-repr-fallback {display: none;}</style><div id=\"sk-container-id-1\" class=\"sk-top-container\"><div class=\"sk-text-repr-fallback\"><pre>LinearRegression()</pre><b>In a Jupyter environment, please rerun this cell to show the HTML representation or trust the notebook. <br />On GitHub, the HTML representation is unable to render, please try loading this page with nbviewer.org.</b></div><div class=\"sk-container\" hidden><div class=\"sk-item\"><div class=\"sk-estimator sk-toggleable\"><input class=\"sk-toggleable__control sk-hidden--visually\" id=\"sk-estimator-id-1\" type=\"checkbox\" checked><label for=\"sk-estimator-id-1\" class=\"sk-toggleable__label sk-toggleable__label-arrow\">LinearRegression</label><div class=\"sk-toggleable__content\"><pre>LinearRegression()</pre></div></div></div></div></div>"
      ],
      "text/plain": [
       "LinearRegression()"
      ]
     },
     "execution_count": 25,
     "metadata": {},
     "output_type": "execute_result"
    }
   ],
   "source": [
    "# Train a plain linear regression model with default parameters\n",
    "lr = LinearRegression()\n",
    "lr.fit(X_train, y_train)"
   ]
  },
  {
   "cell_type": "code",
   "execution_count": 26,
   "id": "7a3b98b4-d138-4c25-b4e6-716d9593ceee",
   "metadata": {},
   "outputs": [
    {
     "data": {
      "text/plain": [
       "2.7657299092318994"
      ]
     },
     "execution_count": 26,
     "metadata": {},
     "output_type": "execute_result"
    }
   ],
   "source": [
    "# Make predictions on the training data\n",
    "predictions = lr.predict(X_train)\n",
    "\n",
    "# Calculate the RMSE on the training data\n",
    "rmse = np.sqrt(mean_squared_error(y_train, predictions, squared=False))\n",
    "rmse"
   ]
  },
  {
   "cell_type": "code",
   "execution_count": 27,
   "id": "f01ad458-67f4-4b0f-8cc7-a682cff74536",
   "metadata": {},
   "outputs": [
    {
     "name": "stderr",
     "output_type": "stream",
     "text": [
      "/home/codespace/anaconda3/lib/python3.11/site-packages/seaborn/_oldcore.py:1119: FutureWarning: use_inf_as_na option is deprecated and will be removed in a future version. Convert inf values to NaN before operating instead.\n",
      "  with pd.option_context('mode.use_inf_as_na', True):\n",
      "/home/codespace/anaconda3/lib/python3.11/site-packages/seaborn/_oldcore.py:1119: FutureWarning: use_inf_as_na option is deprecated and will be removed in a future version. Convert inf values to NaN before operating instead.\n",
      "  with pd.option_context('mode.use_inf_as_na', True):\n"
     ]
    },
    {
     "data": {
      "image/png": "[encoded data removed]",
      "text/plain": [
       "<Figure size 640x480 with 1 Axes>"
      ]
     },
     "metadata": {},
     "output_type": "display_data"
    }
   ],
   "source": [
    "sns.histplot(predictions, kde=True, label='prediction', color='blue', alpha=0.6, bins=50)\n",
    "sns.histplot(y_train, kde=True, label='actual', color='red', alpha=0.6, bins=50)\n",
    "\n",
    "plt.legend()\n",
    "plt.show()"
   ]
  },
  {
   "cell_type": "markdown",
   "id": "11a42e60-be18-454a-ab66-c7e89afb63eb",
   "metadata": {},
   "source": [
    "# Q6. Evaluating the model"
   ]
  },
  {
   "cell_type": "markdown",
   "id": "ee5f30c2-bfbe-4258-b298-fe3770e135be",
   "metadata": {},
   "source": [
    "Now let's apply this model to the validation dataset (February 2023).\n",
    "\n",
    "What's the RMSE on validation?"
   ]
  },
  {
   "cell_type": "code",
   "execution_count": 28,
   "id": "7983a27e-5e5a-4799-bc61-296df65899d4",
   "metadata": {},
   "outputs": [],
   "source": [
    "# Calculate the duration in minutes\n",
    "df_february['duration'] = (pd.to_datetime(df_february['tpep_dropoff_datetime']) - pd.to_datetime(df_february['tpep_pickup_datetime'])).dt.total_seconds() / 60"
   ]
  },
  {
   "cell_type": "code",
   "execution_count": 29,
   "id": "b22ebe30-8dfc-4494-97d8-0bd05ad8ee40",
   "metadata": {},
   "outputs": [],
   "source": [
    "# Filter the data\n",
    "filtered_data_february = df_february[(df_february['duration'] >= 1) & (df_february['duration'] <= 60)]\n",
    "\n",
    "# Convert specified columns to string type using loc to avoid the SettingWithCopyWarning\n",
    "filtered_data_february.loc[:, categorical] = filtered_data_february[categorical].astype(str)\n",
    "\n",
    "# Keep only the relevant columns\n",
    "df_selected_february = filtered_data_february[categorical]"
   ]
  },
  {
   "cell_type": "code",
   "execution_count": 30,
   "id": "f30edd12-b017-4bcc-8c82-dd1ae72f07e9",
   "metadata": {},
   "outputs": [],
   "source": [
    "# Convert the dataframe to a list of dictionaries\n",
    "data_dict_february = df_selected_february.to_dict(orient='records')\n",
    "\n",
    "# Transform the validation data using the already fitted dictionary vectorizer\n",
    "X_val = dv.transform(data_dict_february)"
   ]
  },
  {
   "cell_type": "code",
   "execution_count": 31,
   "id": "370b1f7f-20c3-4fca-895b-9370eab79923",
   "metadata": {},
   "outputs": [
    {
     "name": "stdout",
     "output_type": "stream",
     "text": [
      "The RMSE on the validation data is: 7.81\n"
     ]
    }
   ],
   "source": [
    "# Target variable\n",
    "y_val = filtered_data_february[target].values\n",
    "\n",
    "# Make predictions on the validation data\n",
    "predictions_val = lr.predict(X_val)\n",
    "\n",
    "# Calculate the RMSE on the validation data\n",
    "rmse_val = np.sqrt(mean_squared_error(y_val, predictions_val))\n",
    "print(f\"The RMSE on the validation data is: {rmse_val:.2f}\")"
   ]
  },
  {
   "cell_type": "code",
   "execution_count": 19,
   "id": "c4b1eb15-e660-4d9b-93db-d8e15c0b3f79",
   "metadata": {},
   "outputs": [
    {
     "name": "stderr",
     "output_type": "stream",
     "text": [
      "/home/codespace/anaconda3/lib/python3.11/site-packages/seaborn/_oldcore.py:1119: FutureWarning: use_inf_as_na option is deprecated and will be removed in a future version. Convert inf values to NaN before operating instead.\n",
      "  with pd.option_context('mode.use_inf_as_na', True):\n",
      "/home/codespace/anaconda3/lib/python3.11/site-packages/seaborn/_oldcore.py:1119: FutureWarning: use_inf_as_na option is deprecated and will be removed in a future version. Convert inf values to NaN before operating instead.\n",
      "  with pd.option_context('mode.use_inf_as_na', True):\n"
     ]
    },
    {
     "data": {
      "image/png": "[encoded data removed]",
      "text/plain": [
       "<Figure size 640x480 with 1 Axes>"
      ]
     },
     "metadata": {},
     "output_type": "display_data"
    }
   ],
   "source": [
    "sns.histplot(predictions_val, kde=True, label='prediction', color='blue', alpha=0.6, bins=50)\n",
    "sns.histplot(y_val, kde=True, label='actual', color='red', alpha=0.6, bins=50)\n",
    "\n",
    "plt.legend()\n",
    "plt.show()"
   ]
  },
  {
   "cell_type": "markdown",
   "id": "909f5b3a-0b93-47b4-a82a-216a8f02e054",
   "metadata": {},
   "source": [
    "# Restructuring the Code"
   ]
  },
  {
   "cell_type": "code",
   "execution_count": 1,
   "id": "9741e957-1e1e-4085-8d96-94189228d108",
   "metadata": {},
   "outputs": [],
   "source": [
    "import pandas as pd\n",
    "import numpy as np\n",
    "\n",
    "from sklearn.feature_extraction import DictVectorizer\n",
    "from sklearn.linear_model import LinearRegression\n",
    "from sklearn.metrics import mean_squared_error\n",
    "\n",
    "import seaborn as sns\n",
    "import matplotlib.pyplot as plt"
   ]
  },
  {
   "cell_type": "code",
   "execution_count": 5,
   "id": "0f0b7bd0-9157-449d-9053-23938f5ceeed",
   "metadata": {},
   "outputs": [],
   "source": [
    "def read_dataframe(filename):\n",
    "    df = pd.read_parquet(filename)\n",
    "\n",
    "    df.tpep_dropoff_datetime = pd.to_datetime(df.tpep_dropoff_datetime)\n",
    "    df.tpep_pickup_datetime = pd.to_datetime(df.tpep_pickup_datetime)\n",
    "\n",
    "    # Calculate the duration time\n",
    "    df['duration'] = (df.tpep_dropoff_datetime - df.tpep_pickup_datetime).dt.total_seconds() / 60\n",
    "\n",
    "    # Filter out the outliers\n",
    "    df = df[(df['duration'] >= 1) & (df['duration'] <= 60)]\n",
    "\n",
    "    # Convert the data types for features\n",
    "    categorical = ['PULocationID', 'DOLocationID']\n",
    "    df[categorical] = df[categorical].astype(str)\n",
    "\n",
    "    return df  "
   ]
  },
  {
   "cell_type": "code",
   "execution_count": 6,
   "id": "028e155d-83e5-4d75-bfd2-d46aa0433bba",
   "metadata": {},
   "outputs": [],
   "source": [
    "url_january = \"https://d37ci6vzurychx.cloudfront.net/trip-data/yellow_tripdata_2023-01.parquet\"\n",
    "url_february = \"https://d37ci6vzurychx.cloudfront.net/trip-data/yellow_tripdata_2023-02.parquet\""
   ]
  },
  {
   "cell_type": "code",
   "execution_count": 7,
   "id": "38842dac-93fd-4497-8dba-b7b8be1d63ad",
   "metadata": {},
   "outputs": [],
   "source": [
    "df_train = read_dataframe(url_january)\n",
    "df_val = read_dataframe(url_february)"
   ]
  },
  {
   "cell_type": "code",
   "execution_count": 8,
   "id": "3f9f4120-c1e4-4946-a644-0c635c539747",
   "metadata": {},
   "outputs": [
    {
     "data": {
      "text/plain": [
       "(3009173, 2855951)"
      ]
     },
     "execution_count": 8,
     "metadata": {},
     "output_type": "execute_result"
    }
   ],
   "source": [
    "len(df_train), len(df_val)"
   ]
  },
  {
   "cell_type": "markdown",
   "id": "3714922f-8da8-4980-8662-0dd435c22256",
   "metadata": {},
   "source": [
    "### Convert data into a feature matrix"
   ]
  },
  {
   "cell_type": "code",
   "execution_count": 10,
   "id": "ae9114e2-31e4-4807-b9b3-7dff66948a46",
   "metadata": {},
   "outputs": [],
   "source": [
    "categorical = ['PULocationID', 'DOLocationID']"
   ]
  },
  {
   "cell_type": "code",
   "execution_count": 11,
   "id": "b9f31f6b-4981-407d-9aa9-7231b6657e6f",
   "metadata": {},
   "outputs": [],
   "source": [
    "# Initialize the dictionary vectorizer\n",
    "dv = DictVectorizer()\n",
    "\n",
    "# Convert the dataframe to a list of dictionaries\n",
    "train_dicts = df_train[categorical].to_dict(orient='records')\n",
    "val_dicts = df_val[categorical].to_dict(orient='records')\n",
    "# Fit the vectorizer and transform the data into a feature matrix\n",
    "X_train = dv.fit_transform(train_dicts)\n",
    "X_val = dv.transform(val_dicts)"
   ]
  },
  {
   "cell_type": "markdown",
   "id": "4532323e-2e92-4498-bcd5-ba6d76836ac0",
   "metadata": {},
   "source": [
    "### Train the model"
   ]
  },
  {
   "cell_type": "code",
   "execution_count": 12,
   "id": "2aaffd34-6efd-4b2c-878e-f115409961b9",
   "metadata": {},
   "outputs": [],
   "source": [
    "# Get the Y\n",
    "target = 'duration'\n",
    "y_train = df_train[target].values"
   ]
  },
  {
   "cell_type": "code",
   "execution_count": 17,
   "id": "c0411244-2f03-4cda-a746-735a4108cf12",
   "metadata": {},
   "outputs": [
    {
     "name": "stdout",
     "output_type": "stream",
     "text": [
      "The RMSE on the training data is: 2.77\n"
     ]
    }
   ],
   "source": [
    "# Train a plain linear regression model with default parameters\n",
    "lr = LinearRegression()\n",
    "lr.fit(X_train, y_train)\n",
    "\n",
    "# Make predictions on the training data\n",
    "predictions = lr.predict(X_train)\n",
    "\n",
    "# Calculate the RMSE on the training data\n",
    "rmse = np.sqrt(mean_squared_error(y_train, predictions, squared=False))\n",
    "print(f\"The RMSE on the training data is: {rmse:.2f}\")"
   ]
  },
  {
   "cell_type": "markdown",
   "id": "f9517083-8a0b-4520-a4e8-55461fa26e37",
   "metadata": {},
   "source": [
    "### Validate the model"
   ]
  },
  {
   "cell_type": "code",
   "execution_count": 18,
   "id": "d4c9d4ef-be3e-4c8d-a0b8-6e0c7089e6d2",
   "metadata": {},
   "outputs": [
    {
     "name": "stdout",
     "output_type": "stream",
     "text": [
      "The RMSE on the validation data is: 7.81\n"
     ]
    }
   ],
   "source": [
    "# Target variable\n",
    "y_val = df_val[target].values\n",
    "\n",
    "# Make predictions on the validation data\n",
    "predictions_val = lr.predict(X_val)\n",
    "\n",
    "# Calculate the RMSE on the validation data\n",
    "rmse_val = np.sqrt(mean_squared_error(y_val, predictions_val))\n",
    "print(f\"The RMSE on the validation data is: {rmse_val:.2f}\")"
   ]
  }
 ],
 "metadata": {
  "kernelspec": {
   "display_name": "Python 3 (ipykernel)",
   "language": "python",
   "name": "python3"
  },
  "language_info": {
   "codemirror_mode": {
    "name": "ipython",
    "version": 3
   },
   "file_extension": ".py",
   "mimetype": "text/x-python",
   "name": "python",
   "nbconvert_exporter": "python",
   "pygments_lexer": "ipython3",
   "version": "3.11.7"
  }
 },
 "nbformat": 4,
 "nbformat_minor": 5
}
